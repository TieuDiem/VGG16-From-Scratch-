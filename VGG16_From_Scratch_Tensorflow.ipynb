{
  "nbformat": 4,
  "nbformat_minor": 0,
  "metadata": {
    "colab": {
      "provenance": [],
      "authorship_tag": "ABX9TyME19EL1fmnfmxNtvvsnAZv",
      "include_colab_link": true
    },
    "kernelspec": {
      "name": "python3",
      "display_name": "Python 3"
    },
    "language_info": {
      "name": "python"
    }
  },
  "cells": [
    {
      "cell_type": "markdown",
      "metadata": {
        "id": "view-in-github",
        "colab_type": "text"
      },
      "source": [
        "<a href=\"https://colab.research.google.com/github/TieuDiem/VGG16-From-Scratch-/blob/main/VGG16_From_Scratch_Tensorflow.ipynb\" target=\"_parent\"><img src=\"https://colab.research.google.com/assets/colab-badge.svg\" alt=\"Open In Colab\"/></a>"
      ]
    },
    {
      "cell_type": "code",
      "execution_count": 18,
      "metadata": {
        "id": "GG2QASAxL2jf"
      },
      "outputs": [],
      "source": [
        "import tensorflow as tf\n",
        "from google.colab.patches import cv2_imshow\n",
        "from tensorflow.keras.layers import Conv2D,Dense,MaxPooling2D\n",
        "import cv2\n",
        "import numpy as np\n",
        "import matplotlib.pyplot as plt"
      ]
    },
    {
      "cell_type": "markdown",
      "source": [
        "**Description for Conv2D**\n",
        "\n",
        "\n",
        "* filtes: number of kernel \n",
        "* kernel_size: size of window kernel (3x3)\n",
        "* padding: \"same\" : output after apply convolution size same with input.\n",
        "* input_shape: shape of input image\n",
        "\n",
        "_________________________________________\n",
        "\n",
        "$$output{\\_size}= \\frac {input{\\_size}{\\space} - {\\space}kernel{\\_size}}{stride} {\\space}+1$$\n",
        "## Example:\n",
        "* input_shape =(224,224)\n",
        "* kernel_size =(3 * 3)\n",
        "* stride =1\n",
        "* output_size = $$\\frac{224-3}{1}+1 = 221$$\n",
        "\n",
        "_________________________________________\n",
        "* How to calculate after Conv2D: $$param = F * K * D$$\n",
        "\n",
        "* $${Total\\_param} = \\sum_{x = 0}^{b} {\\space}param_i$$\n",
        "## With :\n",
        "* F: number of filters\n",
        "* K: kernel size\n",
        "* K: deep of input shape\n",
        "\n",
        "## Example :\n",
        "```\n",
        " Conv2D(filters =64,kernel_size =(3,3),padding=\"same\",activation='relu',input_shape =(224,224,3))\n",
        "\n",
        "```\n",
        "$$param = filters{\\space}{*}{\\space}{kernel\\_size}{\\space} * {\\space}deep {\\space}+{\\space}filters = 64{\\space}*{\\space}3{\\space}*{\\space}*3{\\space}*{\\space}3{\\space}+{\\space}64={\\space} 1972$$\n",
        "\n",
        "```\n",
        "Conv2D(filters =64,kernel_size =(3,3),padding=\"same\",activation='relu',input_shape =(224,224,3))\n",
        "```\n",
        "Deep in next Conv2D = filters of previous Conv2D =64 \n",
        "\n",
        "$$param = 64 * 3 *3 * 64 + 64 = 36928  $$\n",
        "$$total{\\_param} = 1972 +   36928  =  38,720$$\n",
        "\n",
        "```\n",
        " MaxPooling2D(pool_size=(2,2),strides=(2,2))\n",
        "```\n",
        "MaxPooling2D no effect to total number parameter in last of block, It's just change size of output\n",
        "\n",
        "\n",
        "\n",
        "\n",
        "\n",
        "\n"
      ],
      "metadata": {
        "id": "HWN3otAf1bP8"
      }
    },
    {
      "cell_type": "code",
      "source": [
        "model = tf.keras.Sequential([\n",
        "    # Block 1 \n",
        "    Conv2D(filters =64,kernel_size =(3,3),padding=\"same\",activation='relu',input_shape =(224,224,3)),\n",
        "    Conv2D(filters =64,kernel_size= (3,3),padding=\"same\",activation='relu'),\n",
        "    MaxPooling2D(pool_size=(2,2),strides=(2,2)),\n",
        "    \n",
        "    #Block 2\n",
        "    Conv2D(filters =128,kernel_size=(3,3),padding=\"same\",activation=\"relu\"),\n",
        "    Conv2D(filters =128,kernel_size=(3,3),padding=\"same\",activation='relu'),\n",
        "    MaxPooling2D(pool_size =(2,2),strides =(2,2)),\n",
        "\n",
        "    #Block 3\n",
        "    Conv2D(filters =256,kernel_size=(3,3),padding=\"same\",activation='relu'),\n",
        "    Conv2D(filters =256,kernel_size=(3,3),padding=\"same\",activation='relu'),\n",
        "    Conv2D(filters =256,kernel_size=(3,3),padding=\"same\",activation='relu'),\n",
        "    MaxPooling2D(pool_size =(2,2),strides =(2,2)),\n",
        "\n",
        "    #Block 4\n",
        "    Conv2D(filters =512,kernel_size=(3,3),padding=\"same\",activation='relu'),\n",
        "    Conv2D(filters =512,kernel_size=(3,3),padding=\"same\",activation='relu'),\n",
        "    Conv2D(filters =512,kernel_size=(3,3),padding=\"same\",activation='relu'),\n",
        "    MaxPooling2D(pool_size =(2,2),strides =(2,2)),\n",
        "\n",
        "    #Block 5\n",
        "    Conv2D(filters =512,kernel_size=(3,3),padding=\"same\",activation='relu'),\n",
        "    Conv2D(filters =512,kernel_size=(3,3),padding=\"same\",activation='relu'),\n",
        "    Conv2D(filters =512,kernel_size=(3,3),padding=\"same\",activation='relu'),\n",
        "    MaxPooling2D(pool_size =(2,2),strides =(2,2)),\n",
        "\n",
        "    #Fully Connected Layer\n",
        "])\n",
        "model.build()\n",
        "model.summary()"
      ],
      "metadata": {
        "colab": {
          "base_uri": "https://localhost:8080/"
        },
        "id": "cUPwEQ_KMrw7",
        "outputId": "06028fa2-d7ec-4952-bd45-43319e36120a"
      },
      "execution_count": 73,
      "outputs": [
        {
          "output_type": "stream",
          "name": "stdout",
          "text": [
            "Model: \"sequential_14\"\n",
            "_________________________________________________________________\n",
            " Layer (type)                Output Shape              Param #   \n",
            "=================================================================\n",
            " conv2d_75 (Conv2D)          (None, 224, 224, 64)      1792      \n",
            "                                                                 \n",
            " conv2d_76 (Conv2D)          (None, 224, 224, 64)      36928     \n",
            "                                                                 \n",
            " max_pooling2d_29 (MaxPoolin  (None, 112, 112, 64)     0         \n",
            " g2D)                                                            \n",
            "                                                                 \n",
            " conv2d_77 (Conv2D)          (None, 112, 112, 128)     73856     \n",
            "                                                                 \n",
            " conv2d_78 (Conv2D)          (None, 112, 112, 128)     147584    \n",
            "                                                                 \n",
            " max_pooling2d_30 (MaxPoolin  (None, 56, 56, 128)      0         \n",
            " g2D)                                                            \n",
            "                                                                 \n",
            " conv2d_79 (Conv2D)          (None, 56, 56, 256)       295168    \n",
            "                                                                 \n",
            " conv2d_80 (Conv2D)          (None, 56, 56, 256)       590080    \n",
            "                                                                 \n",
            " conv2d_81 (Conv2D)          (None, 56, 56, 256)       590080    \n",
            "                                                                 \n",
            " max_pooling2d_31 (MaxPoolin  (None, 28, 28, 256)      0         \n",
            " g2D)                                                            \n",
            "                                                                 \n",
            " conv2d_82 (Conv2D)          (None, 28, 28, 512)       1180160   \n",
            "                                                                 \n",
            " conv2d_83 (Conv2D)          (None, 28, 28, 512)       2359808   \n",
            "                                                                 \n",
            " conv2d_84 (Conv2D)          (None, 28, 28, 512)       2359808   \n",
            "                                                                 \n",
            " max_pooling2d_32 (MaxPoolin  (None, 14, 14, 512)      0         \n",
            " g2D)                                                            \n",
            "                                                                 \n",
            " conv2d_85 (Conv2D)          (None, 14, 14, 512)       2359808   \n",
            "                                                                 \n",
            " conv2d_86 (Conv2D)          (None, 14, 14, 512)       2359808   \n",
            "                                                                 \n",
            " conv2d_87 (Conv2D)          (None, 14, 14, 512)       2359808   \n",
            "                                                                 \n",
            " max_pooling2d_33 (MaxPoolin  (None, 7, 7, 512)        0         \n",
            " g2D)                                                            \n",
            "                                                                 \n",
            "=================================================================\n",
            "Total params: 14,714,688\n",
            "Trainable params: 14,714,688\n",
            "Non-trainable params: 0\n",
            "_________________________________________________________________\n"
          ]
        }
      ]
    },
    {
      "cell_type": "code",
      "source": [
        "path_img = r'/content/134206.jpg'\n",
        "img=cv2.resize(cv2.imread(path_img),(224,224))\n",
        "result = model(np.array([img]))\n",
        "result.shape"
      ],
      "metadata": {
        "colab": {
          "base_uri": "https://localhost:8080/"
        },
        "id": "u0v6n5FwFqts",
        "outputId": "638413ba-b101-48de-ca51-b4d37754ab89"
      },
      "execution_count": 74,
      "outputs": [
        {
          "output_type": "execute_result",
          "data": {
            "text/plain": [
              "TensorShape([1, 7, 7, 512])"
            ]
          },
          "metadata": {},
          "execution_count": 74
        }
      ]
    },
    {
      "cell_type": "code",
      "source": [
        "fig =plt.figure(figsize=(25,25))\n",
        "for id in range(64):\n",
        "  feature_img = result[0,:,:,id]\n",
        "  ax = plt.subplot(8,8,id+1)\n",
        "  ax.set_xticks([])\n",
        "  ax.set_yticks([])\n",
        "  plt.imshow(feature_img,cmap = 'gray')\n",
        "plt.show()"
      ],
      "metadata": {
        "colab": {
          "base_uri": "https://localhost:8080/",
          "height": 1000
        },
        "id": "e5ZC6u3tGSae",
        "outputId": "565e93b0-15ff-4eb5-cce9-c2355ce9fdf8"
      },
      "execution_count": 75,
      "outputs": [
        {
          "output_type": "display_data",
          "data": {
            "text/plain": [
              "<Figure size 1800x1800 with 64 Axes>"
            ],
            "image/png": "[encoded data removed]"
          },
          "metadata": {}
        }
      ]
    }
  ]
}